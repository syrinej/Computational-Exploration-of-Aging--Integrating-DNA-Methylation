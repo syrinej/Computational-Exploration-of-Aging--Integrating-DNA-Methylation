{
 "cells": [
  {
   "cell_type": "code",
   "execution_count": 3,
   "metadata": {},
   "outputs": [],
   "source": [
    "import pandas as pd\n",
    "df= pd.read_csv('annotation_df.csv')"
   ]
  },
  {
   "cell_type": "code",
   "execution_count": 4,
   "metadata": {},
   "outputs": [
    {
     "data": {
      "text/html": [
       "<div>\n",
       "<style scoped>\n",
       "    .dataframe tbody tr th:only-of-type {\n",
       "        vertical-align: middle;\n",
       "    }\n",
       "\n",
       "    .dataframe tbody tr th {\n",
       "        vertical-align: top;\n",
       "    }\n",
       "\n",
       "    .dataframe thead th {\n",
       "        text-align: right;\n",
       "    }\n",
       "</style>\n",
       "<table border=\"1\" class=\"dataframe\">\n",
       "  <thead>\n",
       "    <tr style=\"text-align: right;\">\n",
       "      <th></th>\n",
       "      <th>Name</th>\n",
       "      <th>UCSC_RefGene_Name</th>\n",
       "    </tr>\n",
       "  </thead>\n",
       "  <tbody>\n",
       "    <tr>\n",
       "      <th>0</th>\n",
       "      <td>cg04400972</td>\n",
       "      <td>TRIM45;TRIM45</td>\n",
       "    </tr>\n",
       "    <tr>\n",
       "      <th>1</th>\n",
       "      <td>cg24466241</td>\n",
       "      <td>ZYG11A</td>\n",
       "    </tr>\n",
       "    <tr>\n",
       "      <th>2</th>\n",
       "      <td>cg02650266</td>\n",
       "      <td>NaN</td>\n",
       "    </tr>\n",
       "    <tr>\n",
       "      <th>3</th>\n",
       "      <td>cg05991454</td>\n",
       "      <td>NaN</td>\n",
       "    </tr>\n",
       "    <tr>\n",
       "      <th>4</th>\n",
       "      <td>cg25316339</td>\n",
       "      <td>ANKRD34B</td>\n",
       "    </tr>\n",
       "  </tbody>\n",
       "</table>\n",
       "</div>"
      ],
      "text/plain": [
       "         Name UCSC_RefGene_Name\n",
       "0  cg04400972     TRIM45;TRIM45\n",
       "1  cg24466241            ZYG11A\n",
       "2  cg02650266               NaN\n",
       "3  cg05991454               NaN\n",
       "4  cg25316339          ANKRD34B"
      ]
     },
     "execution_count": 4,
     "metadata": {},
     "output_type": "execute_result"
    }
   ],
   "source": [
    "df.head()"
   ]
  },
  {
   "cell_type": "code",
   "execution_count": 7,
   "metadata": {},
   "outputs": [
    {
     "name": "stdout",
     "output_type": "stream",
     "text": [
      "<class 'pandas.core.frame.DataFrame'>\n",
      "RangeIndex: 73 entries, 0 to 72\n",
      "Data columns (total 2 columns):\n",
      " #   Column             Non-Null Count  Dtype \n",
      "---  ------             --------------  ----- \n",
      " 0   Name               73 non-null     object\n",
      " 1   UCSC_RefGene_Name  57 non-null     object\n",
      "dtypes: object(2)\n",
      "memory usage: 1.3+ KB\n"
     ]
    }
   ],
   "source": [
    "# Get basic info about the DataFrame\n",
    "df.info()\n",
    "\n",
    "\n",
    "\n"
   ]
  },
  {
   "cell_type": "code",
   "execution_count": 8,
   "metadata": {},
   "outputs": [
    {
     "data": {
      "text/html": [
       "<div>\n",
       "<style scoped>\n",
       "    .dataframe tbody tr th:only-of-type {\n",
       "        vertical-align: middle;\n",
       "    }\n",
       "\n",
       "    .dataframe tbody tr th {\n",
       "        vertical-align: top;\n",
       "    }\n",
       "\n",
       "    .dataframe thead th {\n",
       "        text-align: right;\n",
       "    }\n",
       "</style>\n",
       "<table border=\"1\" class=\"dataframe\">\n",
       "  <thead>\n",
       "    <tr style=\"text-align: right;\">\n",
       "      <th></th>\n",
       "      <th>Name</th>\n",
       "      <th>UCSC_RefGene_Name</th>\n",
       "    </tr>\n",
       "  </thead>\n",
       "  <tbody>\n",
       "    <tr>\n",
       "      <th>count</th>\n",
       "      <td>73</td>\n",
       "      <td>57</td>\n",
       "    </tr>\n",
       "    <tr>\n",
       "      <th>unique</th>\n",
       "      <td>73</td>\n",
       "      <td>56</td>\n",
       "    </tr>\n",
       "    <tr>\n",
       "      <th>top</th>\n",
       "      <td>cg04400972</td>\n",
       "      <td>KLF14</td>\n",
       "    </tr>\n",
       "    <tr>\n",
       "      <th>freq</th>\n",
       "      <td>1</td>\n",
       "      <td>2</td>\n",
       "    </tr>\n",
       "  </tbody>\n",
       "</table>\n",
       "</div>"
      ],
      "text/plain": [
       "              Name UCSC_RefGene_Name\n",
       "count           73                57\n",
       "unique          73                56\n",
       "top     cg04400972             KLF14\n",
       "freq             1                 2"
      ]
     },
     "execution_count": 8,
     "metadata": {},
     "output_type": "execute_result"
    }
   ],
   "source": [
    "df.describe()"
   ]
  },
  {
   "cell_type": "code",
   "execution_count": 9,
   "metadata": {},
   "outputs": [
    {
     "name": "stdout",
     "output_type": "stream",
     "text": [
      "Name                  0\n",
      "UCSC_RefGene_Name    16\n",
      "dtype: int64\n"
     ]
    }
   ],
   "source": [
    "# Check for missing values\n",
    "print(df.isnull().sum())"
   ]
  },
  {
   "cell_type": "code",
   "execution_count": 10,
   "metadata": {},
   "outputs": [
    {
     "data": {
      "text/plain": [
       "(73, 2)"
      ]
     },
     "execution_count": 10,
     "metadata": {},
     "output_type": "execute_result"
    }
   ],
   "source": [
    "df.shape"
   ]
  },
  {
   "cell_type": "code",
   "execution_count": 11,
   "metadata": {},
   "outputs": [],
   "source": [
    "df= df.dropna()"
   ]
  },
  {
   "cell_type": "code",
   "execution_count": 12,
   "metadata": {},
   "outputs": [
    {
     "data": {
      "text/plain": [
       "(57, 2)"
      ]
     },
     "execution_count": 12,
     "metadata": {},
     "output_type": "execute_result"
    }
   ],
   "source": [
    "df.shape"
   ]
  },
  {
   "cell_type": "code",
   "execution_count": 13,
   "metadata": {},
   "outputs": [
    {
     "data": {
      "text/html": [
       "<div>\n",
       "<style scoped>\n",
       "    .dataframe tbody tr th:only-of-type {\n",
       "        vertical-align: middle;\n",
       "    }\n",
       "\n",
       "    .dataframe tbody tr th {\n",
       "        vertical-align: top;\n",
       "    }\n",
       "\n",
       "    .dataframe thead th {\n",
       "        text-align: right;\n",
       "    }\n",
       "</style>\n",
       "<table border=\"1\" class=\"dataframe\">\n",
       "  <thead>\n",
       "    <tr style=\"text-align: right;\">\n",
       "      <th></th>\n",
       "      <th>Name</th>\n",
       "      <th>UCSC_RefGene_Name</th>\n",
       "    </tr>\n",
       "  </thead>\n",
       "  <tbody>\n",
       "    <tr>\n",
       "      <th>0</th>\n",
       "      <td>cg04400972</td>\n",
       "      <td>TRIM45;TRIM45</td>\n",
       "    </tr>\n",
       "    <tr>\n",
       "      <th>1</th>\n",
       "      <td>cg24466241</td>\n",
       "      <td>ZYG11A</td>\n",
       "    </tr>\n",
       "    <tr>\n",
       "      <th>4</th>\n",
       "      <td>cg25316339</td>\n",
       "      <td>ANKRD34B</td>\n",
       "    </tr>\n",
       "    <tr>\n",
       "      <th>5</th>\n",
       "      <td>cg00292135</td>\n",
       "      <td>C7orf13;RNF32</td>\n",
       "    </tr>\n",
       "    <tr>\n",
       "      <th>6</th>\n",
       "      <td>cg09124496</td>\n",
       "      <td>LOC285954;LOC285954;INHBA</td>\n",
       "    </tr>\n",
       "  </tbody>\n",
       "</table>\n",
       "</div>"
      ],
      "text/plain": [
       "         Name          UCSC_RefGene_Name\n",
       "0  cg04400972              TRIM45;TRIM45\n",
       "1  cg24466241                     ZYG11A\n",
       "4  cg25316339                   ANKRD34B\n",
       "5  cg00292135              C7orf13;RNF32\n",
       "6  cg09124496  LOC285954;LOC285954;INHBA"
      ]
     },
     "execution_count": 13,
     "metadata": {},
     "output_type": "execute_result"
    }
   ],
   "source": [
    "df.head()"
   ]
  },
  {
   "cell_type": "code",
   "execution_count": 14,
   "metadata": {},
   "outputs": [
    {
     "name": "stdout",
     "output_type": "stream",
     "text": [
      "Number of unique genes: 56\n",
      "['TRIM45;TRIM45' 'ZYG11A' 'ANKRD34B' 'C7orf13;RNF32'\n",
      " 'LOC285954;LOC285954;INHBA' 'CALB1' 'KLHL35' 'OTUD7A' 'SLC6A4;SLC6A4'\n",
      " 'PPM1E' 'CCDC102B' 'PI4KB' 'RASSF5;RASSF5' 'EDARADD;EDARADD;EDARADD' 'F5'\n",
      " 'ATP13A2;ATP13A2;ATP13A2' 'LIX1L' 'GPR177'\n",
      " 'LIPT1;LIPT1;LIPT1;LIPT1;TSGA10;LIPT1' 'NOSTRIN;NOSTRIN;NOSTRIN;NOSTRIN'\n",
      " 'DNER' 'SFMBT1;SFMBT1;SFMBT1' 'BOC;WDR52' 'HERC6;HERC6' 'ACCN5' 'ERGIC1'\n",
      " 'NHSL1;NHSL1' 'SCGN;SCGN' 'HCG18;TRIM39;TRIM39;HCG18;TRIM39' 'MAP3K5'\n",
      " 'NHLRC1' 'MKLN1' 'KLF14' 'ELN;ELN;ELN;ELN;ELN'\n",
      " 'RNF170;RNF170;RNF170;RNF170;RNF170;RNF170' 'IL7' 'CHMP4C' 'ALDH1A1'\n",
      " 'ARHGAP22' 'SLC25A22' 'TBK1' 'TRPV4;TRPV4' 'RARG' 'HTR2A;HTR2A;HTR2A'\n",
      " 'MIR770;MEG3;MEG3;MEG3' 'NQO1;NQO1;NQO1' 'ASPA;ASPA'\n",
      " 'ACACA;ACACA;ACACA;ACACA;ACACA' 'IFI35' 'COL1A1' 'PGAP3' 'EIF1' 'AKAP8L'\n",
      " 'FUT3;FUT3;FUT3;FUT3' 'SLC12A5;SLC12A5' 'APOL1;APOL1;APOL1;APOL1']\n"
     ]
    }
   ],
   "source": [
    "# Get the number of unique genes\n",
    "unique_genes = df['UCSC_RefGene_Name'].nunique()\n",
    "print(f\"Number of unique genes: {unique_genes}\")\n",
    "\n",
    "# Display the unique gene names\n",
    "print(df['UCSC_RefGene_Name'].unique())\n"
   ]
  },
  {
   "cell_type": "code",
   "execution_count": 21,
   "metadata": {},
   "outputs": [
    {
     "data": {
      "text/html": [
       "<div>\n",
       "<style scoped>\n",
       "    .dataframe tbody tr th:only-of-type {\n",
       "        vertical-align: middle;\n",
       "    }\n",
       "\n",
       "    .dataframe tbody tr th {\n",
       "        vertical-align: top;\n",
       "    }\n",
       "\n",
       "    .dataframe thead th {\n",
       "        text-align: right;\n",
       "    }\n",
       "</style>\n",
       "<table border=\"1\" class=\"dataframe\">\n",
       "  <thead>\n",
       "    <tr style=\"text-align: right;\">\n",
       "      <th></th>\n",
       "      <th>Name</th>\n",
       "      <th>UCSC_RefGene_Name</th>\n",
       "    </tr>\n",
       "  </thead>\n",
       "  <tbody>\n",
       "    <tr>\n",
       "      <th>0</th>\n",
       "      <td>cg04400972</td>\n",
       "      <td>TRIM45</td>\n",
       "    </tr>\n",
       "    <tr>\n",
       "      <th>1</th>\n",
       "      <td>cg24466241</td>\n",
       "      <td>ZYG11A</td>\n",
       "    </tr>\n",
       "    <tr>\n",
       "      <th>4</th>\n",
       "      <td>cg25316339</td>\n",
       "      <td>ANKRD34B</td>\n",
       "    </tr>\n",
       "    <tr>\n",
       "      <th>5</th>\n",
       "      <td>cg00292135</td>\n",
       "      <td>C7orf13</td>\n",
       "    </tr>\n",
       "    <tr>\n",
       "      <th>5</th>\n",
       "      <td>cg00292135</td>\n",
       "      <td>RNF32</td>\n",
       "    </tr>\n",
       "  </tbody>\n",
       "</table>\n",
       "</div>"
      ],
      "text/plain": [
       "         Name UCSC_RefGene_Name\n",
       "0  cg04400972            TRIM45\n",
       "1  cg24466241            ZYG11A\n",
       "4  cg25316339          ANKRD34B\n",
       "5  cg00292135           C7orf13\n",
       "5  cg00292135             RNF32"
      ]
     },
     "execution_count": 21,
     "metadata": {},
     "output_type": "execute_result"
    }
   ],
   "source": [
    "# Split the 'UCSC_RefGene_Name' column into multiple rows\n",
    "df_split = df.assign(UCSC_RefGene_Name=df['UCSC_RefGene_Name'].str.split(';')).explode('UCSC_RefGene_Name')\n",
    "\n",
    "# Remove any leading or trailing spaces from the gene names\n",
    "df_split['UCSC_RefGene_Name'] = df_split['UCSC_RefGene_Name'].str.strip()\n",
    "# Drop duplicate gene names within the same CpG site\n",
    "df_split = df_split.drop_duplicates(subset=['Name', 'UCSC_RefGene_Name'])\n",
    "# Display the DataFrame after splitting\n",
    "df_split.head()"
   ]
  },
  {
   "cell_type": "code",
   "execution_count": 20,
   "metadata": {},
   "outputs": [
    {
     "data": {
      "text/plain": [
       "(63, 2)"
      ]
     },
     "execution_count": 20,
     "metadata": {},
     "output_type": "execute_result"
    }
   ],
   "source": [
    "df_split.shape"
   ]
  },
  {
   "cell_type": "code",
   "execution_count": 22,
   "metadata": {},
   "outputs": [],
   "source": [
    "df = df_split"
   ]
  },
  {
   "cell_type": "code",
   "execution_count": 23,
   "metadata": {},
   "outputs": [
    {
     "name": "stdout",
     "output_type": "stream",
     "text": [
      "   UCSC_RefGene_Name  CpG_Count\n",
      "29             KLF14          2\n",
      "0              ACACA          1\n",
      "46              RARG          1\n",
      "34            MAP3K5          1\n",
      "35              MEG3          1\n",
      "..               ...        ...\n",
      "25             HTR2A          1\n",
      "26             IFI35          1\n",
      "27               IL7          1\n",
      "28             INHBA          1\n",
      "61            ZYG11A          1\n",
      "\n",
      "[62 rows x 2 columns]\n"
     ]
    }
   ],
   "source": [
    "# Group by gene name and count the number of CpG sites associated with each gene\n",
    "gene_counts = df.groupby('UCSC_RefGene_Name').size().reset_index(name='CpG_Count')\n",
    "print(gene_counts.sort_values(by='CpG_Count', ascending=False))\n"
   ]
  },
  {
   "cell_type": "code",
   "execution_count": 24,
   "metadata": {},
   "outputs": [
    {
     "data": {
      "image/png": "[encoded data removed]",
      "text/plain": [
       "<Figure size 1000x600 with 1 Axes>"
      ]
     },
     "metadata": {},
     "output_type": "display_data"
    }
   ],
   "source": [
    "import matplotlib.pyplot as plt\n",
    "\n",
    "# Plot the distribution of CpG site counts per gene\n",
    "plt.figure(figsize=(10, 6))\n",
    "plt.hist(gene_counts['CpG_Count'], bins=30, color='skyblue', edgecolor='black')\n",
    "plt.title('Distribution of CpG Sites per Gene')\n",
    "plt.xlabel('Number of CpG Sites')\n",
    "plt.ylabel('Frequency')\n",
    "plt.show()\n"
   ]
  },
  {
   "cell_type": "code",
   "execution_count": 25,
   "metadata": {},
   "outputs": [
    {
     "name": "stdout",
     "output_type": "stream",
     "text": [
      "Gene list saved with 62 unique genes.\n"
     ]
    }
   ],
   "source": [
    "# Extract the unique gene names\n",
    "unique_genes = df['UCSC_RefGene_Name'].unique()\n",
    "\n",
    "# Save the unique gene names to a text file\n",
    "with open('gene_list.txt', 'w') as f:\n",
    "    for gene in unique_genes:\n",
    "        f.write(f\"{gene}\\n\")\n",
    "\n",
    "print(f\"Gene list saved with {len(unique_genes)} unique genes.\")"
   ]
  },
  {
   "cell_type": "code",
   "execution_count": null,
   "metadata": {},
   "outputs": [],
   "source": []
  }
 ],
 "metadata": {
  "kernelspec": {
   "display_name": "Python 3",
   "language": "python",
   "name": "python3"
  },
  "language_info": {
   "codemirror_mode": {
    "name": "ipython",
    "version": 3
   },
   "file_extension": ".py",
   "mimetype": "text/x-python",
   "name": "python",
   "nbconvert_exporter": "python",
   "pygments_lexer": "ipython3",
   "version": "3.11.4"
  }
 },
 "nbformat": 4,
 "nbformat_minor": 2
}
